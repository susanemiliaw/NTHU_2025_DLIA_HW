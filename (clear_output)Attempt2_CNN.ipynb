{
  "cells": [
    {
      "cell_type": "markdown",
      "metadata": {
        "id": "view-in-github",
        "colab_type": "text"
      },
      "source": [
        "<a href=\"https://colab.research.google.com/github/susanemiliaw/NTHU_2025_DLIA_HW/blob/main/(clear_output)Attempt2_CNN.ipynb\" target=\"_parent\"><img src=\"https://colab.research.google.com/assets/colab-badge.svg\" alt=\"Open In Colab\"/></a>"
      ]
    },
    {
      "cell_type": "markdown",
      "metadata": {
        "id": "Li0bVCTuxc6n"
      },
      "source": [
        "<div align=\"center\">\n",
        "\n",
        "#### Lab 3\n",
        "\n",
        "# National Tsing Hua University\n",
        "\n",
        "#### Spring 2025\n",
        "\n",
        "#### 11320IEEM 513600\n",
        "\n",
        "#### Deep Learning and Industrial Applications\n",
        "    \n",
        "## Lab 3: Anomaly Detection in Industrial Applications\n",
        "\n",
        "</div>"
      ]
    },
    {
      "cell_type": "markdown",
      "metadata": {
        "id": "OlvflhYwCu8Q"
      },
      "source": [
        "### Introduction\n",
        "\n",
        "In today's industrial landscape, the ability to detect anomalies in manufacturing processes and products is critical for maintaining quality, efficiency, and safety. This lab focuses on leveraging deep learning techniques for anomaly detection in various industrial applications, using the MVTEC Anomaly Detection Dataset. By employing ImageNet-pretrained models available in torchvision, students will gain hands-on experience in classfying defects and irregularities across different types of industrial products.\n",
        "\n",
        "Throughout this lab, you'll be involved in the following key activities:\n",
        "- Explore and process the MVTec Anomaly Detection Dataset.\n",
        "- Apply ImageNet-pretrained models from [Torchvision](https://pytorch.org/vision/stable/models.html) to detect anomalies in industrial products.\n",
        "- Evaluate the performance of the models to understand their effectiveness in real-world industrial applications.\n",
        "\n",
        "### Objectives\n",
        "\n",
        "- Understand the principles of anomaly detection in the context of industrial applications.\n",
        "- Learn how to implement and utilize ImageNet-pretrained models for detecting anomalies.\n",
        "- Analyze and interpret the results of the anomaly detection models to assess their practicality in industrial settings.\n",
        "\n",
        "### Dataset\n",
        "\n",
        "The MVTec AD Dataset is a comprehensive collection of high-resolution images across different categories of industrial products, such as bottles, cables, and metal nuts, each with various types of defects. This dataset is pivotal for developing and benchmarking anomaly detection algorithms. You can download our lab's dataset [here](https://drive.google.com/file/d/19600hUOpx0hl78TdpdH0oyy-gGTk_F_o/view?usp=share_link). You can drop downloaded data and drop to colab, or you can put into yor google drive.\n",
        "\n",
        "### References\n",
        "- [MVTec AD Dataset](https://www.kaggle.com/datasets/ipythonx/mvtec-ad/data) for the dataset used in this lab.\n",
        "- [Torchvision Models](https://pytorch.org/vision/stable/models.html) for accessing ImageNet-pretrained models to be used in anomaly detection tasks.\n",
        "- [State-of-the-Art Anomaly Detection on MVTec AD](https://paperswithcode.com/sota/anomaly-detection-on-mvtec-ad) for insights into the latest benchmarks and methodologies in anomaly detection applied to the MVTec AD dataset.\n",
        "- [CVPR 2019: MVTec AD — A Comprehensive Real-World Dataset for Unsupervised Anomaly Detection] for the original paper of MVTec AD dataset."
      ]
    },
    {
      "cell_type": "code",
      "execution_count": null,
      "metadata": {
        "id": "GuiEw1L0Cu8Q"
      },
      "outputs": [],
      "source": [
        "import glob\n",
        "import matplotlib.pyplot as plt\n",
        "import random\n",
        "from tqdm.auto import tqdm\n",
        "import cv2\n",
        "import numpy as np\n",
        "import os"
      ]
    },
    {
      "cell_type": "code",
      "execution_count": null,
      "metadata": {
        "id": "qvLTTCGsCu8R"
      },
      "outputs": [],
      "source": [
        "# Mount Google Drive\n",
        "from google.colab import drive\n",
        "drive.mount('/content/drive')\n",
        "\n",
        "# Set the category to extract (e.g., bottle, cable, etc.)\n",
        "category = \"bottle\"\n",
        "image_path = f\"/content/drive/MyDrive/Colab Notebooks/{category}\"\n",
        "\n",
        "# Define root paths\n",
        "drive_root = \"/content/drive/MyDrive/Colab Notebooks/bottle\"\n",
        "train_dir = os.path.join(drive_root, \"train\")\n",
        "test_dir = os.path.join(drive_root, \"test\")\n",
        "\n",
        "# Get train and test image paths\n",
        "train_images = glob.glob(f\"{train_dir}/good/*.png\")\n",
        "test_images = glob.glob(f\"{test_dir}/**/*.png\", recursive=True)\n",
        "\n",
        "# Count classes (excluding 'good')\n",
        "defect_classes = [d for d in os.listdir(test_dir) if d != 'good']\n",
        "num_defect_classes = len(defect_classes)\n",
        "\n",
        "# Example image to get dimensions\n",
        "sample_img = cv2.imread(train_images[0])\n",
        "height, width, channels = sample_img.shape\n",
        "\n",
        "# Output\n",
        "print(\"📊 Dataset Summary for 'bottle':\")\n",
        "print(f\"• Number of defect classes: {num_defect_classes}\")\n",
        "print(f\"• Types of defect classes: {defect_classes}\")\n",
        "print(f\"• Total images used: {len(train_images) + len(test_images)}\")\n",
        "print(f\"    - Training images (only 'good'): {len(train_images)}\")\n",
        "print(f\"    - Test images (good + defective): {len(test_images)}\")\n",
        "print(f\"• Image dimensions: {width} x {height} x {channels}\")\n"
      ]
    },
    {
      "cell_type": "code",
      "execution_count": null,
      "metadata": {
        "id": "yXfjTWKUCu8R"
      },
      "outputs": [],
      "source": [
        "file_paths = glob.glob(\"/content/drive/MyDrive/Colab Notebooks/bottle/**/*/*.png\", recursive=True)"
      ]
    },
    {
      "cell_type": "code",
      "execution_count": null,
      "metadata": {
        "id": "3GiOZBRJCu8S"
      },
      "outputs": [],
      "source": [
        "all_data = []\n",
        "\n",
        "for img in tqdm(file_paths):\n",
        "    img = cv2.imread(img)\n",
        "    img = img[..., ::-1]\n",
        "    all_data.append(img)\n",
        "\n",
        "all_data = np.stack(all_data)\n",
        "print(all_data.shape)"
      ]
    },
    {
      "cell_type": "code",
      "execution_count": null,
      "metadata": {
        "id": "ii8LH8s4Cu8S"
      },
      "outputs": [],
      "source": [
        "import matplotlib.pyplot as plt\n",
        "import numpy as np\n",
        "\n",
        "# Define your test directory\n",
        "test_dir = \"/content/drive/MyDrive/Colab Notebooks/bottle/test\"\n",
        "\n",
        "# Get class names from the test folder (e.g., good, broken_large, etc.)\n",
        "classes = sorted([d for d in os.listdir(test_dir) if os.path.isdir(os.path.join(test_dir, d))])\n",
        "print(f'Classes: {classes}')\n",
        "\n",
        "# Show 2 images from each class\n",
        "fig, axs = plt.subplots(len(classes), 2, figsize=(6, 4 * len(classes)))\n",
        "\n",
        "for i, class_name in enumerate(classes):\n",
        "    class_folder = os.path.join(test_dir, class_name)\n",
        "    images = sorted(glob.glob(f\"{class_folder}/*.png\"))[:2]  # get first 2 images\n",
        "\n",
        "    for j, img_path in enumerate(images):\n",
        "        img = cv2.imread(img_path)\n",
        "        img = cv2.cvtColor(img, cv2.COLOR_BGR2RGB)\n",
        "        axs[i, j].imshow(img)\n",
        "        axs[i, j].axis('off')\n",
        "        axs[i, j].set_title(f'{class_name}')\n",
        "\n",
        "plt.tight_layout()\n",
        "plt.show()"
      ]
    },
    {
      "cell_type": "markdown",
      "metadata": {
        "id": "w-1PsC--M7pT"
      },
      "source": [
        "## A. Data Loading and Preprocessing"
      ]
    },
    {
      "cell_type": "code",
      "execution_count": null,
      "metadata": {
        "id": "nGFI8GMpCu8S"
      },
      "outputs": [],
      "source": [
        "import torch\n",
        "from torch.utils.data import DataLoader, TensorDataset, random_split\n",
        "import numpy as np\n",
        "from sklearn.model_selection import train_test_split\n",
        "\n",
        "# Paths\n",
        "train_dir = \"/content/drive/MyDrive/Colab Notebooks/bottle/train/good\"\n",
        "test_dir = \"/content/drive/MyDrive/Colab Notebooks/bottle/test\"\n",
        "\n",
        "# --- Load Training Data (Good + Defect) ---\n",
        "train_x = []\n",
        "train_y = []\n",
        "\n",
        "# Good training images (label 0)\n",
        "good_train = glob.glob(os.path.join(train_dir, \"*.png\"))\n",
        "for path in good_train:\n",
        "    img = cv2.imread(path)\n",
        "    img = cv2.cvtColor(img, cv2.COLOR_BGR2RGB)\n",
        "    train_x.append(img)\n",
        "    train_y.append(0)\n",
        "\n",
        "# Defect training images from test folder (label 1)\n",
        "defect_classes = ['broken_large', 'broken_small', 'contamination']\n",
        "for cls in defect_classes:\n",
        "    defect_imgs = sorted(glob.glob(f\"{test_dir}/{cls}/*.png\"))[:10]\n",
        "    for path in defect_imgs:\n",
        "        img = cv2.imread(path)\n",
        "        img = cv2.cvtColor(img, cv2.COLOR_BGR2RGB)\n",
        "        train_x.append(img)\n",
        "        train_y.append(1)\n",
        "\n",
        "x_train = np.transpose(np.array(train_x), (0, 3, 1, 2))  # (N, C, H, W)\n",
        "y_train = np.array(train_y)\n",
        "\n",
        "print(\"✅ Training label counts:\", np.bincount(y_train))\n",
        "\n",
        "\n",
        "# --- Load Validation Data (Good + Defect from full test set) ---\n",
        "x_val = []\n",
        "y_val = []\n",
        "\n",
        "for cls in os.listdir(test_dir):\n",
        "    label = 0 if cls == \"good\" else 1\n",
        "    for path in glob.glob(f\"{test_dir}/{cls}/*.png\"):\n",
        "        img = cv2.imread(path)\n",
        "        img = cv2.cvtColor(img, cv2.COLOR_BGR2RGB)\n",
        "        x_val.append(img)\n",
        "        y_val.append(label)\n",
        "\n",
        "x_val = np.transpose(np.array(x_val), (0, 3, 1, 2))  # (N, C, H, W)\n",
        "y_val = np.array(y_val, dtype=np.int64)\n",
        "\n",
        "# --- Output shape info ---\n",
        "print(f'x_train: {x_train.shape}, y_train: {y_train.shape}')\n",
        "print(f'x_val: {x_val.shape}, y_val: {y_val.shape}')"
      ]
    },
    {
      "cell_type": "code",
      "execution_count": null,
      "metadata": {
        "id": "h-CnfsmbCu8T"
      },
      "outputs": [],
      "source": [
        "from torchvision import transforms\n",
        "from PIL import Image\n",
        "from torch.utils.data import Dataset\n",
        "\n",
        "train_transforms = transforms.Compose([\n",
        "    transforms.Resize((224, 224)),\n",
        "    transforms.ToTensor(),\n",
        "    transforms.Normalize(mean=[0.485, 0.456, 0.406],\n",
        "                         std=[0.229, 0.224, 0.225])\n",
        "])\n",
        "\n",
        "val_transforms = transforms.Compose([\n",
        "    transforms.Resize((224, 224)),\n",
        "    transforms.ToTensor(),\n",
        "    transforms.Normalize(mean=[0.485, 0.456, 0.406],\n",
        "                         std=[0.229, 0.224, 0.225])\n",
        "])\n",
        "\n",
        "class MyDataset(Dataset):\n",
        "    def __init__(self, x, y, transform=None):\n",
        "        self.x = x\n",
        "        self.y = torch.from_numpy(y).long()\n",
        "        self.transform = transform\n",
        "\n",
        "    def __len__(self):\n",
        "        return len(self.x)\n",
        "\n",
        "    def __getitem__(self, idx):\n",
        "        img = np.transpose(self.x[idx], (1, 2, 0))  # (H, W, C)\n",
        "        img = Image.fromarray(img.astype(np.uint8))  # convert to PIL image\n",
        "        if self.transform:\n",
        "            img = self.transform(img)\n",
        "        return img, self.y[idx]"
      ]
    },
    {
      "cell_type": "code",
      "execution_count": null,
      "metadata": {
        "id": "53ZVFFacCu8T"
      },
      "outputs": [],
      "source": [
        "batch_size = 32\n",
        "\n",
        "train_dataset = MyDataset(x_train, y_train, transform=train_transforms)\n",
        "val_dataset = MyDataset(x_val, y_val, transform=val_transforms)\n",
        "\n",
        "train_loader = DataLoader(train_dataset, batch_size=batch_size, shuffle=True)\n",
        "val_loader = DataLoader(val_dataset, batch_size=batch_size, shuffle=False)\n"
      ]
    },
    {
      "cell_type": "code",
      "source": [
        "import torch\n",
        "\n",
        "# Simulate a dummy input (batch size = 1, 3 channels, 224x224 image)\n",
        "dummy_input = torch.randn(1, 3, 224, 224)\n",
        "\n",
        "# Define temp CNN blocks only up to the flattening part\n",
        "conv1 = nn.Conv2d(3, 16, 3, padding=1)\n",
        "pool = nn.MaxPool2d(2, 2)\n",
        "conv2 = nn.Conv2d(16, 32, 3, padding=1)\n",
        "conv3 = nn.Conv2d(32, 64, 3, padding=1)\n",
        "\n",
        "with torch.no_grad():\n",
        "    x = pool(F.relu(conv1(dummy_input)))  # -> 16x112x112\n",
        "    x = pool(F.relu(conv2(x)))            # -> 32x56x56\n",
        "    x = pool(F.relu(conv3(x)))            # -> 64x28x28\n",
        "    print(\"Flattened size after conv/pool:\", x.view(1, -1).shape[1])\n",
        "\n"
      ],
      "metadata": {
        "id": "QZEYvfmduzaF"
      },
      "execution_count": null,
      "outputs": []
    },
    {
      "cell_type": "markdown",
      "metadata": {
        "id": "oaLGtT28xc6s"
      },
      "source": [
        "## B. Defining Neural Networks"
      ]
    },
    {
      "cell_type": "code",
      "execution_count": null,
      "metadata": {
        "id": "oDX8iDKJCu8U"
      },
      "outputs": [],
      "source": [
        "import torch.nn as nn\n",
        "import torch.nn.functional as F\n",
        "\n",
        "class BaselineCNN(nn.Module):\n",
        "    def __init__(self):\n",
        "        super(BaselineCNN, self).__init__()\n",
        "        self.conv1 = nn.Conv2d(3, 16, kernel_size=3, padding=1)\n",
        "        self.pool = nn.MaxPool2d(2, 2)\n",
        "        self.conv2 = nn.Conv2d(16, 32, kernel_size=3, padding=1)\n",
        "        self.conv3 = nn.Conv2d(32, 64, kernel_size=3, padding=1)\n",
        "\n",
        "        # Flatten size = 64 × 28 × 28 = 50176 (if input is 224x224)\n",
        "        self.flatten = nn.Flatten()\n",
        "        self.fc1 = nn.Linear(64 * 28 * 28, 128)\n",
        "        self.dropout = nn.Dropout(p=0.5)\n",
        "        self.fc2 = nn.Linear(128, 2)\n",
        "\n",
        "    def forward(self, x):\n",
        "        x = self.pool(F.relu(self.conv1(x)))\n",
        "        x = self.pool(F.relu(self.conv2(x)))\n",
        "        x = self.pool(F.relu(self.conv3(x)))\n",
        "        x = self.flatten(x)\n",
        "        x = F.relu(self.fc1(x))\n",
        "        x = self.dropout(x)              # 👈 Use dropout in forward pass\n",
        "        x = self.fc2(x)\n",
        "        return x\n"
      ]
    },
    {
      "cell_type": "markdown",
      "metadata": {
        "id": "nvLTU-IfZLqn"
      },
      "source": [
        "## C. Training the Neural Network"
      ]
    },
    {
      "cell_type": "code",
      "execution_count": null,
      "metadata": {
        "id": "45ol4lpVxc6t"
      },
      "outputs": [],
      "source": [
        "import torch.optim as optim\n",
        "from torch.optim.lr_scheduler import CosineAnnealingLR\n",
        "from tqdm.auto import tqdm\n",
        "\n",
        "train_losses = []\n",
        "val_losses = []\n",
        "train_accuracies = []\n",
        "val_accuracies = []\n",
        "\n",
        "epochs = 50\n",
        "device = torch.device(\"cuda\" if torch.cuda.is_available() else \"cpu\")\n",
        "model = model.to(device)\n",
        "\n",
        "best_val_loss = float('inf')\n",
        "best_val_acc = -1\n",
        "\n",
        "criterion = nn.CrossEntropyLoss()\n",
        "optimizer = optim.Adam(model.parameters(), lr=1e-3)\n",
        "lr_scheduler = CosineAnnealingLR(optimizer, T_max=len(train_loader)*epochs, eta_min=0)\n",
        "\n",
        "for epoch in tqdm(range(epochs)):\n",
        "    model.train()\n",
        "    total_loss = 0.0\n",
        "    train_correct = 0\n",
        "    total_train_samples = 0\n",
        "\n",
        "    for images, labels in train_loader:\n",
        "        images, labels = images.to(device), labels.to(device)\n",
        "\n",
        "        outputs = model(images)\n",
        "        loss = criterion(outputs, labels)\n",
        "\n",
        "        optimizer.zero_grad()\n",
        "        loss.backward()\n",
        "        optimizer.step()\n",
        "\n",
        "        total_loss += loss.item()\n",
        "        train_predicted = outputs.argmax(-1)\n",
        "        train_correct += (train_predicted == labels).sum().item()\n",
        "        total_train_samples += labels.size(0)\n",
        "\n",
        "    avg_train_loss = total_loss / len(train_loader)\n",
        "    train_accuracy = 100. * train_correct / total_train_samples\n",
        "\n",
        "    # Validation\n",
        "    model.eval()\n",
        "    total_val_loss = 0.0\n",
        "    correct = 0\n",
        "    total = 0\n",
        "    with torch.no_grad():\n",
        "        for images, labels in val_loader:\n",
        "            images, labels = images.to(device), labels.to(device)\n",
        "            outputs = model(images)\n",
        "            loss = criterion(outputs, labels)\n",
        "            total_val_loss += loss.item()\n",
        "\n",
        "            predicted = outputs.argmax(-1)\n",
        "            correct += (predicted == labels).sum().item()\n",
        "            total += labels.size(0)\n",
        "\n",
        "    avg_val_loss = total_val_loss / len(val_loader)\n",
        "    val_accuracy = 100. * correct / total\n",
        "\n",
        "    lr_scheduler.step()\n",
        "\n",
        "    # Save best model\n",
        "    if avg_val_loss < best_val_loss:\n",
        "        best_val_loss = avg_val_loss\n",
        "\n",
        "    if val_accuracy > best_val_acc:\n",
        "        best_val_acc = val_accuracy\n",
        "        torch.save(model.state_dict(), 'model_classification.pth')\n",
        "\n",
        "    print(f'Epoch {epoch+1}/{epochs}, Train loss: {avg_train_loss:.4f}, Train acc: {train_accuracy:.2f}%, Val loss: {avg_val_loss:.4f}, Val acc: {val_accuracy:.2f}%, Best Val acc: {best_val_acc:.2f}%')\n",
        "\n",
        "    train_losses.append(avg_train_loss)\n",
        "    train_accuracies.append(train_accuracy)\n",
        "    val_losses.append(avg_val_loss)\n",
        "    val_accuracies.append(val_accuracy)\n",
        "\n"
      ]
    },
    {
      "cell_type": "markdown",
      "metadata": {
        "id": "pjmYxAJnxc6t"
      },
      "source": [
        "### Visualizing model performance"
      ]
    },
    {
      "cell_type": "code",
      "source": [
        "print(\"Train label counts:\", np.bincount(y_train))\n",
        "print(\"Val label counts:\", np.bincount(y_val))\n"
      ],
      "metadata": {
        "id": "1hY2-RLEPolJ"
      },
      "execution_count": null,
      "outputs": []
    },
    {
      "cell_type": "code",
      "execution_count": null,
      "metadata": {
        "id": "pHpS0Q7vxc6t"
      },
      "outputs": [],
      "source": [
        "import matplotlib.pyplot as plt\n",
        "\n",
        "fig, ax = plt.subplots(1, 2, figsize=(15, 5))\n",
        "\n",
        "# Plotting training and validation accuracy\n",
        "ax[0].plot(train_accuracies, label='Train')\n",
        "ax[0].plot(val_accuracies, label='Val')\n",
        "ax[0].set_title('Model Accuracy')\n",
        "ax[0].set_xlabel('Epochs')\n",
        "ax[0].set_ylabel('Accuracy (%)')\n",
        "ax[0].legend()\n",
        "ax[0].grid(True)\n",
        "ax[0].set_ylim(0, 100)\n",
        "\n",
        "# Plotting training and validation loss\n",
        "ax[1].plot(train_losses, label='Train')\n",
        "ax[1].plot(val_losses, label='Val')\n",
        "ax[1].set_title('Model Loss')\n",
        "ax[1].set_xlabel('Epochs')\n",
        "ax[1].set_ylabel('Loss')\n",
        "ax[1].legend()\n",
        "ax[1].grid(True)\n",
        "\n",
        "plt.tight_layout()\n",
        "plt.savefig(\"baselineCNN_training_plot.png\")\n",
        "plt.show()\n"
      ]
    },
    {
      "cell_type": "markdown",
      "metadata": {
        "id": "WVDWBwv6Cu8V"
      },
      "source": [
        "## D. Evaluating Your Trained Model"
      ]
    },
    {
      "cell_type": "markdown",
      "metadata": {
        "id": "uEztHBDjCu8V"
      },
      "source": [
        "### Load Trained Model and Evaluate"
      ]
    },
    {
      "cell_type": "code",
      "execution_count": null,
      "metadata": {
        "id": "2DA1qHXpCu8V"
      },
      "outputs": [],
      "source": [
        "import torch\n",
        "\n",
        "device = torch.device(\"cuda\" if torch.cuda.is_available() else \"cpu\")\n",
        "\n",
        "# Load the trained model to the right device\n",
        "model.load_state_dict(torch.load('model_classification.pth', map_location=device))\n",
        "model.to(device)\n",
        "model.eval()\n",
        "\n",
        "test_correct = 0\n",
        "test_total = 0\n",
        "\n",
        "with torch.no_grad():\n",
        "    for images, labels in val_loader:\n",
        "        images = images.to(device)\n",
        "        labels = labels.to(device).long()\n",
        "\n",
        "        outputs = model(images)\n",
        "        predicted = outputs.argmax(-1)\n",
        "\n",
        "        # Optional: comment these if too many\n",
        "        # print(\"🔍 Predicted:\", predicted)\n",
        "        # print(\"🎯 Ground truth:\", labels)\n",
        "\n",
        "        test_correct += (predicted == labels).sum().item()\n",
        "        test_total += labels.size(0)\n",
        "\n",
        "test_acc = 100. * test_correct / test_total\n",
        "print(f'✅ Final Test Accuracy: {test_acc:.2f}%')\n",
        "\n"
      ]
    }
  ],
  "metadata": {
    "accelerator": "GPU",
    "colab": {
      "gpuType": "T4",
      "provenance": [],
      "toc_visible": true,
      "include_colab_link": true
    },
    "kernelspec": {
      "display_name": "Python 3",
      "name": "python3"
    },
    "language_info": {
      "codemirror_mode": {
        "name": "ipython",
        "version": 3
      },
      "file_extension": ".py",
      "mimetype": "text/x-python",
      "name": "python",
      "nbconvert_exporter": "python",
      "pygments_lexer": "ipython3",
      "version": "3.8.13"
    }
  },
  "nbformat": 4,
  "nbformat_minor": 0
}